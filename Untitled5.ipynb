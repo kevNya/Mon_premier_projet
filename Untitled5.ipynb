{
  "nbformat": 4,
  "nbformat_minor": 0,
  "metadata": {
    "colab": {
      "provenance": [],
      "authorship_tag": "ABX9TyMA1ktbwQmHsvdkhzbgKlHR",
      "include_colab_link": true
    },
    "kernelspec": {
      "name": "python3",
      "display_name": "Python 3"
    },
    "language_info": {
      "name": "python"
    }
  },
  "cells": [
    {
      "cell_type": "markdown",
      "metadata": {
        "id": "view-in-github",
        "colab_type": "text"
      },
      "source": [
        "<a href=\"https://colab.research.google.com/github/kevNya/Mon_premier_projet/blob/main/Untitled5.ipynb\" target=\"_parent\"><img src=\"https://colab.research.google.com/assets/colab-badge.svg\" alt=\"Open In Colab\"/></a>"
      ]
    },
    {
      "cell_type": "code",
      "execution_count": 44,
      "metadata": {
        "id": "Vh-ZnawyhIvq"
      },
      "outputs": [],
      "source": [
        "import pandas as pd\n",
        "import numpy as np\n",
        "\n",
        "\n",
        "data = pd.read_csv('/content/parc_immobilier_etat_20211231.csv', sep=';')\n",
        "data.columns\n",
        "data.drop(columns=[ '﻿Code Chorus','Libellé nouvelle région','Désignation Bâtiment/Terrain','Code INSEE', 'point_geo', 'Tri des déchets', 'ERP','Date de référence','Libellé nouvelle région', 'Libellé gestionnaire','Libellé propriétaire','ID', 'Désignation Site', 'Type', 'Fonction','Dept', 'Latitude', 'Longitude','Type gestionnaire', 'Type propriétaire','Type de chauffage'], inplace=True)"
      ]
    },
    {
      "cell_type": "code",
      "source": [
        "data=data.rename(columns={'Surface (m²)':'surfaceM2',\n",
        "       'Consommation (kWh EF)':'consomation_kw', 'Etat de santé':'etat_de_sante',\n",
        "       'Année de construction':'annee_de_construction'})\n",
        "data.columns"
      ],
      "metadata": {
        "colab": {
          "base_uri": "https://localhost:8080/"
        },
        "id": "erIXS71viG6A",
        "outputId": "cd1c1741-0b09-498b-aab9-3716fc16c598"
      },
      "execution_count": 45,
      "outputs": [
        {
          "output_type": "execute_result",
          "data": {
            "text/plain": [
              "Index(['Adresse', 'Ville', 'Code Postal', 'Pays', 'Ministère', 'surfaceM2',\n",
              "       'consomation_kw', 'etat_de_sante', 'annee_de_construction'],\n",
              "      dtype='object')"
            ]
          },
          "metadata": {},
          "execution_count": 45
        }
      ]
    },
    {
      "cell_type": "code",
      "source": [
        "data.drop(columns=['etat_de_sante', 'annee_de_construction'], inplace=True)\n",
        "data.drop(columns=['consomation_kw'], inplace=True)\n",
        "print(data.shape[0])\n",
        "# data.dropna(inplace=True)\n",
        "data.shape[0]"
      ],
      "metadata": {
        "colab": {
          "base_uri": "https://localhost:8080/"
        },
        "id": "hCDlbOT0_nHC",
        "outputId": "413ad080-bef0-470e-a12f-7b70e9891a24"
      },
      "execution_count": 46,
      "outputs": [
        {
          "output_type": "stream",
          "name": "stdout",
          "text": [
            "110906\n"
          ]
        },
        {
          "output_type": "execute_result",
          "data": {
            "text/plain": [
              "110906"
            ]
          },
          "metadata": {},
          "execution_count": 46
        }
      ]
    },
    {
      "cell_type": "code",
      "source": [
        "data=data.rename(columns={'Code Postal':'code_postal'})\n",
        "data[data['code_postal'].isna()].shape\n",
        "data.dropna(inplace=True)\n",
        "data.shape"
      ],
      "metadata": {
        "colab": {
          "base_uri": "https://localhost:8080/"
        },
        "id": "jZ-V2qB1BqBU",
        "outputId": "8cfe31d4-4769-4337-ff18-0199222fd602"
      },
      "execution_count": 47,
      "outputs": [
        {
          "output_type": "execute_result",
          "data": {
            "text/plain": [
              "(29979, 6)"
            ]
          },
          "metadata": {},
          "execution_count": 47
        }
      ]
    },
    {
      "cell_type": "code",
      "source": [
        "data=data.rename(columns={'Code Postal':'code_postal','Ministère':'ministere' })\n",
        "data=data.drop_duplicates(keep='last')\n",
        "data.shape\n"
      ],
      "metadata": {
        "colab": {
          "base_uri": "https://localhost:8080/"
        },
        "id": "GcaNLeN3j2oO",
        "outputId": "5e669488-5f5e-41e7-c9fd-f2e072468fda"
      },
      "execution_count": 48,
      "outputs": [
        {
          "output_type": "execute_result",
          "data": {
            "text/plain": [
              "(27128, 6)"
            ]
          },
          "metadata": {},
          "execution_count": 48
        }
      ]
    },
    {
      "cell_type": "code",
      "source": [
        "data.to_csv('Parc_France_Data_clean2.csv', header=True, sep=',')\n",
        "from google.colab import files\n",
        "files.download('Parc_France_Data_clean2.csv')"
      ],
      "metadata": {
        "colab": {
          "base_uri": "https://localhost:8080/",
          "height": 17
        },
        "id": "Dxwh7RjKmZ54",
        "outputId": "69e1b54e-e821-4fd0-a915-bb69b07ffaef"
      },
      "execution_count": 50,
      "outputs": [
        {
          "output_type": "display_data",
          "data": {
            "text/plain": [
              "<IPython.core.display.Javascript object>"
            ],
            "application/javascript": [
              "\n",
              "    async function download(id, filename, size) {\n",
              "      if (!google.colab.kernel.accessAllowed) {\n",
              "        return;\n",
              "      }\n",
              "      const div = document.createElement('div');\n",
              "      const label = document.createElement('label');\n",
              "      label.textContent = `Downloading \"${filename}\": `;\n",
              "      div.appendChild(label);\n",
              "      const progress = document.createElement('progress');\n",
              "      progress.max = size;\n",
              "      div.appendChild(progress);\n",
              "      document.body.appendChild(div);\n",
              "\n",
              "      const buffers = [];\n",
              "      let downloaded = 0;\n",
              "\n",
              "      const channel = await google.colab.kernel.comms.open(id);\n",
              "      // Send a message to notify the kernel that we're ready.\n",
              "      channel.send({})\n",
              "\n",
              "      for await (const message of channel.messages) {\n",
              "        // Send a message to notify the kernel that we're ready.\n",
              "        channel.send({})\n",
              "        if (message.buffers) {\n",
              "          for (const buffer of message.buffers) {\n",
              "            buffers.push(buffer);\n",
              "            downloaded += buffer.byteLength;\n",
              "            progress.value = downloaded;\n",
              "          }\n",
              "        }\n",
              "      }\n",
              "      const blob = new Blob(buffers, {type: 'application/binary'});\n",
              "      const a = document.createElement('a');\n",
              "      a.href = window.URL.createObjectURL(blob);\n",
              "      a.download = filename;\n",
              "      div.appendChild(a);\n",
              "      a.click();\n",
              "      div.remove();\n",
              "    }\n",
              "  "
            ]
          },
          "metadata": {}
        },
        {
          "output_type": "display_data",
          "data": {
            "text/plain": [
              "<IPython.core.display.Javascript object>"
            ],
            "application/javascript": [
              "download(\"download_4947012b-9b3d-4cc8-a4b1-9784ca8148fb\", \"Parc_France_Data_clean2.csv\", 2176747)"
            ]
          },
          "metadata": {}
        }
      ]
    }
  ]
}